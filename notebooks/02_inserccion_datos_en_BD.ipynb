{
 "cells": [
  {
   "cell_type": "code",
   "execution_count": 1,
   "metadata": {},
   "outputs": [
    {
     "data": {
      "text/plain": [
       "True"
      ]
     },
     "execution_count": 1,
     "metadata": {},
     "output_type": "execute_result"
    }
   ],
   "source": [
    "import pandas as pd # type: ignore\n",
    "import os\n",
    "import psycopg2 # type: ignore\n",
    "from dotenv import load_dotenv # type: ignore\n",
    "\n",
    "import sys\n",
    "sys.path.append(\"../\")\n",
    "from src import conexion_bd as con\n",
    "from src import creacion_tablas as cre\n",
    "\n",
    "load_dotenv()"
   ]
  },
  {
   "cell_type": "code",
   "execution_count": 2,
   "metadata": {},
   "outputs": [],
   "source": [
    "user = os.getenv(\"DB_USER\")\n",
    "password = os.getenv(\"DB_PASSWORD\")\n",
    "host = os.getenv(\"DB_HOST\")\n",
    "port = os.getenv(\"DB_PORT\")\n",
    "database = os.getenv(\"DB_NAME\")"
   ]
  },
  {
   "cell_type": "code",
   "execution_count": 3,
   "metadata": {},
   "outputs": [
    {
     "name": "stdout",
     "output_type": "stream",
     "text": [
      "Conexión a la base de datos establecida con éxito.\n",
      "Tabla 'supermercados' creada con éxito.\n",
      "Supermercados insertados con éxito.\n",
      "Tabla 'categorias' creada con éxito.\n",
      "categorias insertados con éxito.\n",
      "Tabla 'productos_hist_precios' creada con éxito.\n",
      "Datos cargados con éxito en la tabla 'productos_hist_precios'.\n",
      "Conexión a la base de datos cerrada con éxito.\n"
     ]
    }
   ],
   "source": [
    "# Conectar a la base de datos\n",
    "conn, cursor = con.create_connection(user,password,host,port,database)\n",
    "\n",
    "df = pd.read_csv(\"../data/all_products_2024-10-26.csv\", index_col = 0)\n",
    "\n",
    "cre.main(conn,cursor,df)\n",
    "\n",
    "# Cerrar la conexión\n",
    "con.close_connection(conn, cursor)"
   ]
  }
 ],
 "metadata": {
  "kernelspec": {
   "display_name": "entorno_develop",
   "language": "python",
   "name": "python3"
  },
  "language_info": {
   "codemirror_mode": {
    "name": "ipython",
    "version": 3
   },
   "file_extension": ".py",
   "mimetype": "text/x-python",
   "name": "python",
   "nbconvert_exporter": "python",
   "pygments_lexer": "ipython3",
   "version": "3.12.4"
  }
 },
 "nbformat": 4,
 "nbformat_minor": 2
}
