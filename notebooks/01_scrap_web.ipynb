{
 "cells": [
  {
   "cell_type": "code",
   "execution_count": 1,
   "metadata": {},
   "outputs": [],
   "source": [
    "import time\n",
    "import sys\n",
    "sys.path.append(\"../\")\n",
    "from src import soporte_scrap_web as spc"
   ]
  },
  {
   "cell_type": "code",
   "execution_count": 2,
   "metadata": {},
   "outputs": [
    {
     "name": "stdout",
     "output_type": "stream",
     "text": [
      "\n",
      " Total scrapeo de urls duró 187.93 segundos.\n",
      "\n",
      " Total scrapeo de productos duró 390.88 segundos.\n",
      "Numero de registros: 135867\n",
      "Fichero Salvado: '../data/all_products_2024-10-26.csv'\n",
      "\n",
      " Tiempo total del proceso: 579.20 segundos.\n"
     ]
    }
   ],
   "source": [
    "start_time = time.time()\n",
    "df_todos_productos = await spc.main()\n",
    "end_time = time.time()\n",
    "print(f\"\\n Tiempo total del proceso: {end_time - start_time:.2f} segundos.\")"
   ]
  }
 ],
 "metadata": {
  "kernelspec": {
   "display_name": "entorno_develop",
   "language": "python",
   "name": "python3"
  },
  "language_info": {
   "codemirror_mode": {
    "name": "ipython",
    "version": 3
   },
   "file_extension": ".py",
   "mimetype": "text/x-python",
   "name": "python",
   "nbconvert_exporter": "python",
   "pygments_lexer": "ipython3",
   "version": "3.12.4"
  }
 },
 "nbformat": 4,
 "nbformat_minor": 2
}
