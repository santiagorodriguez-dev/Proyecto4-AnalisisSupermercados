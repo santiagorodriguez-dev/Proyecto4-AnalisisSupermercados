{
 "cells": [
  {
   "cell_type": "code",
   "execution_count": 1,
   "metadata": {},
   "outputs": [],
   "source": [
    "import sys\n",
    "sys.path.append(\"../\")\n",
    "from src import soporte_scrap_web as spc"
   ]
  },
  {
   "cell_type": "code",
   "execution_count": 2,
   "metadata": {},
   "outputs": [],
   "source": [
    "list_urls_super = spc.get_urls(\"https://super.facua.org/\",\"Acceder\")"
   ]
  },
  {
   "cell_type": "code",
   "execution_count": 3,
   "metadata": {},
   "outputs": [
    {
     "data": {
      "text/plain": [
       "['https://super.facua.org/mercadona/',\n",
       " 'https://super.facua.org/carrefour/',\n",
       " 'https://super.facua.org/eroski/',\n",
       " 'https://super.facua.org/dia/',\n",
       " 'https://super.facua.org/hipercor/',\n",
       " 'https://super.facua.org/alcampo/']"
      ]
     },
     "execution_count": 3,
     "metadata": {},
     "output_type": "execute_result"
    }
   ],
   "source": [
    "list_urls_super"
   ]
  },
  {
   "cell_type": "code",
   "execution_count": 4,
   "metadata": {},
   "outputs": [],
   "source": [
    "list_con_categorias=[]\n",
    "\n",
    "for super in list_urls_super:\n",
    "    list_con_categorias.append(spc.get_urls(super,'Ver'))\n"
   ]
  },
  {
   "cell_type": "code",
   "execution_count": 9,
   "metadata": {},
   "outputs": [
    {
     "data": {
      "text/plain": [
       "[['https://super.facua.org/mercadona/aceite-de-girasol/',\n",
       "  'https://super.facua.org/mercadona/aceite-de-oliva/',\n",
       "  'https://super.facua.org/mercadona/leche/'],\n",
       " ['https://super.facua.org/carrefour/aceite-de-girasol/',\n",
       "  'https://super.facua.org/carrefour/aceite-de-oliva/',\n",
       "  'https://super.facua.org/carrefour/leche/'],\n",
       " ['https://super.facua.org/eroski/aceite-de-girasol/',\n",
       "  'https://super.facua.org/eroski/aceite-de-oliva/',\n",
       "  'https://super.facua.org/eroski/leche/'],\n",
       " ['https://super.facua.org/dia/aceite-de-girasol/',\n",
       "  'https://super.facua.org/dia/aceite-de-oliva/',\n",
       "  'https://super.facua.org/dia/leche/'],\n",
       " ['https://super.facua.org/hipercor/aceite-de-girasol/',\n",
       "  'https://super.facua.org/hipercor/aceite-de-oliva/',\n",
       "  'https://super.facua.org/hipercor/leche/'],\n",
       " ['https://super.facua.org/alcampo/aceite-de-girasol/',\n",
       "  'https://super.facua.org/alcampo/aceite-de-oliva/',\n",
       "  'https://super.facua.org/alcampo/leche/'],\n",
       " ['https://super.facua.org/mercadona/aceite-de-girasol/aceite-de-girasol-refinado-02-hacendado-1-l/',\n",
       "  'https://super.facua.org/mercadona/aceite-de-girasol/aceite-de-girasol-refinado-02-hacendado-5-l/']]"
      ]
     },
     "execution_count": 9,
     "metadata": {},
     "output_type": "execute_result"
    }
   ],
   "source": [
    "list_con_categorias"
   ]
  },
  {
   "cell_type": "code",
   "execution_count": 10,
   "metadata": {},
   "outputs": [],
   "source": [
    "result = spc.get_urls(list_con_categorias[1][1],'Histórico')"
   ]
  },
  {
   "cell_type": "code",
   "execution_count": 11,
   "metadata": {},
   "outputs": [
    {
     "data": {
      "text/plain": [
       "['https://super.facua.org/carrefour/aceite-de-oliva/aceite-de-oliva-04-la-masia-1-l/',\n",
       " 'https://super.facua.org/carrefour/aceite-de-oliva/aceite-de-oliva-04-ybarra-1-l/',\n",
       " 'https://super.facua.org/carrefour/aceite-de-oliva/aceite-de-oliva-carbonell-5-l/',\n",
       " 'https://super.facua.org/carrefour/aceite-de-oliva/aceite-de-oliva-extra-suave-carbonell-1-l/',\n",
       " 'https://super.facua.org/carrefour/aceite-de-oliva/aceite-de-oliva-intenso-1-abaco-1-l/',\n",
       " 'https://super.facua.org/carrefour/aceite-de-oliva/aceite-de-oliva-intenso-1-carrefour-1-l/',\n",
       " 'https://super.facua.org/carrefour/aceite-de-oliva/aceite-de-oliva-intenso-1-carrefour-garrafa-5-l/',\n",
       " 'https://super.facua.org/carrefour/aceite-de-oliva/aceite-de-oliva-intenso-1-la-espanola-1-l/',\n",
       " 'https://super.facua.org/carrefour/aceite-de-oliva/aceite-de-oliva-intenso-1-la-masia-1-l/',\n",
       " 'https://super.facua.org/carrefour/aceite-de-oliva/aceite-de-oliva-intenso-1-la-masia-garrafa-5-l/',\n",
       " 'https://super.facua.org/carrefour/aceite-de-oliva/aceite-de-oliva-original-04-carbonell-1-l/',\n",
       " 'https://super.facua.org/carrefour/aceite-de-oliva/aceite-de-oliva-original-04-carbonell-5-l/',\n",
       " 'https://super.facua.org/carrefour/aceite-de-oliva/aceite-de-oliva-original-04-carbonell-pack-de-2-botellas-de-1-l/',\n",
       " 'https://super.facua.org/carrefour/aceite-de-oliva/aceite-de-oliva-sabor-1-carbonell-1-l/',\n",
       " 'https://super.facua.org/carrefour/aceite-de-oliva/aceite-de-oliva-suave-04-abaco-1-l/',\n",
       " 'https://super.facua.org/carrefour/aceite-de-oliva/aceite-de-oliva-suave-04-carrefour-1-l/',\n",
       " 'https://super.facua.org/carrefour/aceite-de-oliva/aceite-de-oliva-suave-04-carrefour-garrafon-5-l/',\n",
       " 'https://super.facua.org/carrefour/aceite-de-oliva/aceite-de-oliva-suave-04-carrefour-lata-5-l/',\n",
       " 'https://super.facua.org/carrefour/aceite-de-oliva/aceite-de-oliva-suave-04-la-espanola-1-l/',\n",
       " 'https://super.facua.org/carrefour/aceite-de-oliva/aceite-de-oliva-suave-04-la-masia-garrafa-5-l/',\n",
       " 'https://super.facua.org/carrefour/aceite-de-oliva/aceite-de-oliva-virgen-aromas-del-sur-5-l/',\n",
       " 'https://super.facua.org/carrefour/aceite-de-oliva/aceite-de-oliva-virgen-carbonell-1-l/',\n",
       " 'https://super.facua.org/carrefour/aceite-de-oliva/aceite-de-oliva-virgen-carbonell-5-l/',\n",
       " 'https://super.facua.org/carrefour/aceite-de-oliva/aceite-de-oliva-virgen-carrefour-1-l/',\n",
       " 'https://super.facua.org/carrefour/aceite-de-oliva/aceite-de-oliva-virgen-carrefour-garrafa-5-l/',\n",
       " 'https://super.facua.org/carrefour/aceite-de-oliva/aceite-de-oliva-virgen-extra-100-arbequina-ecologico-750-ml-natursoy/',\n",
       " 'https://super.facua.org/carrefour/aceite-de-oliva/aceite-de-oliva-virgen-extra-a-la-trufa-la-espanola-250-ml/',\n",
       " 'https://super.facua.org/carrefour/aceite-de-oliva/aceite-de-oliva-virgen-extra-arbequina-carbonell-1-l/',\n",
       " 'https://super.facua.org/carrefour/aceite-de-oliva/aceite-de-oliva-virgen-extra-arbequina-carrefour-1-l/',\n",
       " 'https://super.facua.org/carrefour/aceite-de-oliva/aceite-de-oliva-virgen-extra-arbequina-coosur-1-l/',\n",
       " 'https://super.facua.org/carrefour/aceite-de-oliva/aceite-de-oliva-virgen-extra-arbequina-dcoop-1-l/',\n",
       " 'https://super.facua.org/carrefour/aceite-de-oliva/aceite-de-oliva-virgen-extra-arbequina-k-arginano-750-ml/',\n",
       " 'https://super.facua.org/carrefour/aceite-de-oliva/aceite-de-oliva-virgen-extra-arbequina-oro-bailen-500-ml/',\n",
       " 'https://super.facua.org/carrefour/aceite-de-oliva/aceite-de-oliva-virgen-extra-aromas-del-sur-5-l/',\n",
       " 'https://super.facua.org/carrefour/aceite-de-oliva/aceite-de-oliva-virgen-extra-capricho-andaluz-pack-de-10-porciones-de-10-ml/',\n",
       " 'https://super.facua.org/carrefour/aceite-de-oliva/aceite-de-oliva-virgen-extra-carbonell-1-l/',\n",
       " 'https://super.facua.org/carrefour/aceite-de-oliva/aceite-de-oliva-virgen-extra-carbonell-200-ml/',\n",
       " 'https://super.facua.org/carrefour/aceite-de-oliva/aceite-de-oliva-virgen-extra-carbonell-5-l/',\n",
       " 'https://super.facua.org/carrefour/aceite-de-oliva/aceite-de-oliva-virgen-extra-carrefour-1-l/',\n",
       " 'https://super.facua.org/carrefour/aceite-de-oliva/aceite-de-oliva-virgen-extra-carrefour-500-ml/',\n",
       " 'https://super.facua.org/carrefour/aceite-de-oliva/aceite-de-oliva-virgen-extra-carrefour-750-ml/',\n",
       " 'https://super.facua.org/carrefour/aceite-de-oliva/aceite-de-oliva-virgen-extra-carrefour-garrafa-5-l/',\n",
       " 'https://super.facua.org/carrefour/aceite-de-oliva/aceite-de-oliva-virgen-extra-carrefour-spray-200-ml/',\n",
       " 'https://super.facua.org/carrefour/aceite-de-oliva/aceite-de-oliva-virgen-extra-coosur-1-l/',\n",
       " 'https://super.facua.org/carrefour/aceite-de-oliva/aceite-de-oliva-virgen-extra-coosur-garrafa-de-5-l/',\n",
       " 'https://super.facua.org/carrefour/aceite-de-oliva/aceite-de-oliva-virgen-extra-coosur-gran-seleccion-750-ml/',\n",
       " 'https://super.facua.org/carrefour/aceite-de-oliva/aceite-de-oliva-virgen-extra-dcoop-1-l/',\n",
       " 'https://super.facua.org/carrefour/aceite-de-oliva/aceite-de-oliva-virgen-extra-dcoop-5-l/',\n",
       " 'https://super.facua.org/carrefour/aceite-de-oliva/aceite-de-oliva-virgen-extra-de-nuestra-tierra-1-l/',\n",
       " 'https://super.facua.org/carrefour/aceite-de-oliva/aceite-de-oliva-virgen-extra-de-nuestra-tierra-25-l/',\n",
       " 'https://super.facua.org/carrefour/aceite-de-oliva/aceite-de-oliva-virgen-extra-de-nuestra-tierra-500-ml/',\n",
       " 'https://super.facua.org/carrefour/aceite-de-oliva/aceite-de-oliva-virgen-extra-de-nuestra-tierra-do-estepa-500-ml/',\n",
       " 'https://super.facua.org/carrefour/aceite-de-oliva/aceite-de-oliva-virgen-extra-de-nuestra-tierra-do-les-garrigues-50-cl/',\n",
       " 'https://super.facua.org/carrefour/aceite-de-oliva/aceite-de-oliva-virgen-extra-de-nuestra-tierra-do-priego-de-cordoba/',\n",
       " 'https://super.facua.org/carrefour/aceite-de-oliva/aceite-de-oliva-virgen-extra-de-nuestra-tierra-do-sierra-de-segura-lata-50-cl/',\n",
       " 'https://super.facua.org/carrefour/aceite-de-oliva/aceite-de-oliva-virgen-extra-de-nuestra-tierra-do-sierra-de-segura-lata-5-l/',\n",
       " 'https://super.facua.org/carrefour/aceite-de-oliva/aceite-de-oliva-virgen-extra-de-nuestra-tierra-garrafa-5-l/',\n",
       " 'https://super.facua.org/carrefour/aceite-de-oliva/aceite-de-oliva-virgen-extra-de-nuestra-tierra-lata-1-l/',\n",
       " 'https://super.facua.org/carrefour/aceite-de-oliva/aceite-de-oliva-virgen-extra-de-nuestra-tierra-lata-500-ml/',\n",
       " 'https://super.facua.org/carrefour/aceite-de-oliva/aceite-de-oliva-virgen-extra-ecologico-carbonell-750-ml/',\n",
       " 'https://super.facua.org/carrefour/aceite-de-oliva/aceite-de-oliva-virgen-extra-ecologico-carrefour-bio-1-l/',\n",
       " 'https://super.facua.org/carrefour/aceite-de-oliva/aceite-de-oliva-virgen-extra-ecologico-carrefour-bio-3-l/',\n",
       " 'https://super.facua.org/carrefour/aceite-de-oliva/aceite-de-oliva-virgen-extra-ecologico-carrefour-bio-500-ml/',\n",
       " 'https://super.facua.org/carrefour/aceite-de-oliva/aceite-de-oliva-virgen-extra-ecologico-carrefour-bio-hojiblanca-500-ml/',\n",
       " 'https://super.facua.org/carrefour/aceite-de-oliva/aceite-de-oliva-virgen-extra-ecologico-coosur-1-l/',\n",
       " 'https://super.facua.org/carrefour/aceite-de-oliva/aceite-de-oliva-virgen-extra-ecologico-dcoop-1-l/',\n",
       " 'https://super.facua.org/carrefour/aceite-de-oliva/aceite-de-oliva-virgen-extra-ecologico-maestros-de-hojiblanca-75-cl/',\n",
       " 'https://super.facua.org/carrefour/aceite-de-oliva/aceite-de-oliva-virgen-extra-ecologico-oro-de-genave-75-cl/',\n",
       " 'https://super.facua.org/carrefour/aceite-de-oliva/aceite-de-oliva-virgen-extra-gran-seleccion-carbonell-750-ml/',\n",
       " 'https://super.facua.org/carrefour/aceite-de-oliva/aceite-de-oliva-virgen-extra-hojiblanca-carbonell-1-l/',\n",
       " 'https://super.facua.org/carrefour/aceite-de-oliva/aceite-de-oliva-virgen-extra-hojiblanca-carrefour-1-l/',\n",
       " 'https://super.facua.org/carrefour/aceite-de-oliva/aceite-de-oliva-virgen-extra-hojiblanca-coosur-1-l/',\n",
       " 'https://super.facua.org/carrefour/aceite-de-oliva/aceite-de-oliva-virgen-extra-hojiblanca-dcoop-1-l/',\n",
       " 'https://super.facua.org/carrefour/aceite-de-oliva/aceite-de-oliva-virgen-extra-hojiblanca-gran-seleccion-sabor-frutado-ligero-carbonell-750-ml/',\n",
       " 'https://super.facua.org/carrefour/aceite-de-oliva/aceite-de-oliva-virgen-extra-intenso-coosur-1-l/',\n",
       " 'https://super.facua.org/carrefour/aceite-de-oliva/aceite-de-oliva-virgen-extra-koipe-1-l/',\n",
       " 'https://super.facua.org/carrefour/aceite-de-oliva/aceite-de-oliva-virgen-extra-maestros-de-hojiblanca-1-l/',\n",
       " 'https://super.facua.org/carrefour/aceite-de-oliva/aceite-de-oliva-virgen-extra-maestros-de-hojiblanca-5-l/',\n",
       " 'https://super.facua.org/carrefour/aceite-de-oliva/aceite-de-oliva-virgen-extra-marques-de-grinon-500-ml/',\n",
       " 'https://super.facua.org/carrefour/aceite-de-oliva/aceite-de-oliva-virgen-extra-nunez-de-prado-500-ml/',\n",
       " 'https://super.facua.org/carrefour/aceite-de-oliva/aceite-de-oliva-virgen-extra-oda-a-nuestra-tierra-n-5-maestros-de-hojiblanca-500-ml/',\n",
       " 'https://super.facua.org/carrefour/aceite-de-oliva/aceite-de-oliva-virgen-extra-oleoestepa-1-l/',\n",
       " 'https://super.facua.org/carrefour/aceite-de-oliva/aceite-de-oliva-virgen-extra-picual-carbonell-1-l/',\n",
       " 'https://super.facua.org/carrefour/aceite-de-oliva/aceite-de-oliva-virgen-extra-picual-carrefour-1-l/',\n",
       " 'https://super.facua.org/carrefour/aceite-de-oliva/aceite-de-oliva-virgen-extra-picual-ecologico-oro-bailen-500-ml/',\n",
       " 'https://super.facua.org/carrefour/aceite-de-oliva/aceite-de-oliva-virgen-extra-picual-oro-bailen-500-ml/',\n",
       " 'https://super.facua.org/carrefour/aceite-de-oliva/aceite-de-oliva-virgen-extra-retama-1-l/',\n",
       " 'https://super.facua.org/carrefour/aceite-de-oliva/aceite-de-oliva-virgen-extra-retama-garrafa-5-l/',\n",
       " 'https://super.facua.org/carrefour/aceite-de-oliva/aceite-de-oliva-virgen-extra-sabor-ajo-maeva-spray-200-ml/',\n",
       " 'https://super.facua.org/carrefour/aceite-de-oliva/aceite-de-oliva-virgen-extra-variedad-arbequina-ecologico-carrefour-bio-500-ml/',\n",
       " 'https://super.facua.org/carrefour/aceite-de-oliva/aceite-de-oliva-virgen-extra-variedad-picual-dcoop-1-l/',\n",
       " 'https://super.facua.org/carrefour/aceite-de-oliva/aceite-de-oliva-virgen-extra-variedad-picual-ecologico-carrefour-bio-500-ml/',\n",
       " 'https://super.facua.org/carrefour/aceite-de-oliva/aceite-de-oliva-virgen-extra-ybarra-1-l/',\n",
       " 'https://super.facua.org/carrefour/aceite-de-oliva/aceite-de-oliva-virgen-extra-ybarra-750-ml/',\n",
       " 'https://super.facua.org/carrefour/aceite-de-oliva/aceite-de-oliva-virgen-plancha-y-horno-carbonell-200-ml/',\n",
       " 'https://super.facua.org/carrefour/aceite-de-oliva/aceite-de-oliva-virgen-serie-oro-coosur-1-l/',\n",
       " 'https://super.facua.org/carrefour/aceite-de-oliva/aceite-de-oliva-virgen-serie-oro-coosur-5-l/',\n",
       " 'https://super.facua.org/carrefour/aceite-de-oliva/aceite-de-orujo-de-oliva-1-l/',\n",
       " 'https://super.facua.org/carrefour/aceite-de-oliva/aceite-en-crema-oliva-mitica-sin-aclarado-garnier-original-remedies-200-ml/',\n",
       " 'https://super.facua.org/carrefour/aceite-de-oliva/acondicionador-nutritivo-aceite-de-oliva-carrefour-soft-300-ml/',\n",
       " 'https://super.facua.org/carrefour/aceite-de-oliva/anchoa-con-aceite-de-oliva-virgen-extra-lorea-gourmet-125-g/',\n",
       " 'https://super.facua.org/carrefour/aceite-de-oliva/anchoas-en-aceite-de-oliva-carrefour-55-g/',\n",
       " 'https://super.facua.org/carrefour/aceite-de-oliva/anchoas-en-aceite-de-oliva-consorcio-50-g/',\n",
       " 'https://super.facua.org/carrefour/aceite-de-oliva/anchoas-en-aceite-de-oliva-consorcio-53-g/',\n",
       " 'https://super.facua.org/carrefour/aceite-de-oliva/anchoas-en-aceite-de-oliva-consorcio-78-g/',\n",
       " 'https://super.facua.org/carrefour/aceite-de-oliva/anchoas-en-aceite-de-oliva-consorcio-87-g/',\n",
       " 'https://super.facua.org/carrefour/aceite-de-oliva/anchoas-en-aceite-de-oliva-virgen-extra-ecologico-consorcio-38-g/',\n",
       " 'https://super.facua.org/carrefour/aceite-de-oliva/boletus-en-aceite-de-oliva-de-nuestra-tierra-230-g/',\n",
       " 'https://super.facua.org/carrefour/aceite-de-oliva/boquerones-en-vinagre-con-aceite-de-oliva-virgen-extra-lorea-55-g/',\n",
       " 'https://super.facua.org/carrefour/aceite-de-oliva/caballa-de-andalucia-en-aceite-de-oliva-tejero-60-g/',\n",
       " 'https://super.facua.org/carrefour/aceite-de-oliva/caballa-del-sur-en-aceite-de-oliva-carrefour-pack-de-3-latas-de-52-g/',\n",
       " 'https://super.facua.org/carrefour/aceite-de-oliva/cebolla-caramelizada-en-aceite-de-oliva-ibsa-240-g/',\n",
       " 'https://super.facua.org/carrefour/aceite-de-oliva/crema-corporal-con-aceite-de-oliva-carrefour-soft-250-ml/',\n",
       " 'https://super.facua.org/carrefour/aceite-de-oliva/filete-de-caballa-en-aceite-de-oliva-isabel-85-g/',\n",
       " 'https://super.facua.org/carrefour/aceite-de-oliva/gazpacho-con-aceite-de-oliva-virgen-extra-santa-teresa-sin-gluten-1-l/',\n",
       " 'https://super.facua.org/carrefour/aceite-de-oliva/jabon-de-manos-en-pastilla-de-aceite-de-oliva-125-g/',\n",
       " 'https://super.facua.org/carrefour/aceite-de-oliva/leche-corporal-hidratante-con-aceite-de-oliva-para-piel-seca-nivea-400-ml/',\n",
       " 'https://super.facua.org/carrefour/aceite-de-oliva/margarina-light-con-aceite-de-oliva-carrefour-500-g/',\n",
       " 'https://super.facua.org/carrefour/aceite-de-oliva/margarina-oliva-flora-sin-gluten-sin-lactosa-y-sin-aceite-de-palma-225-g/',\n",
       " 'https://super.facua.org/carrefour/aceite-de-oliva/mascarilla-capilar-sin-aclarado-ultranutritiva-con-aceite-de-oliva-les-cosmetiques-nectar-of-beauty-200-ml/',\n",
       " 'https://super.facua.org/carrefour/aceite-de-oliva/mojicones-aceite-de-oliva-luna-600-g/',\n",
       " 'https://super.facua.org/carrefour/aceite-de-oliva/piadina-sfogliatissima-con-aceite-de-oliva-virgen-extra-loriana-350-g/',\n",
       " 'https://super.facua.org/carrefour/aceite-de-oliva/pimientos-asados-con-aceite-de-oliva-ibsa-sin-gluten-295-g/',\n",
       " 'https://super.facua.org/carrefour/aceite-de-oliva/pulpo-de-las-rias-gallegas-en-aceite-de-oliva-de-nuestra-tierra-67-g/',\n",
       " 'https://super.facua.org/carrefour/aceite-de-oliva/tumaca-con-ajo-y-aceite-de-oliva-carrefour-370-g/',\n",
       " 'https://super.facua.org/carrefour/aceite-de-oliva/tumaca-natural-con-aceite-de-oliva-carrefour-370-g/']"
      ]
     },
     "execution_count": 11,
     "metadata": {},
     "output_type": "execute_result"
    }
   ],
   "source": [
    "result"
   ]
  }
 ],
 "metadata": {
  "kernelspec": {
   "display_name": "entorno_develop",
   "language": "python",
   "name": "python3"
  },
  "language_info": {
   "codemirror_mode": {
    "name": "ipython",
    "version": 3
   },
   "file_extension": ".py",
   "mimetype": "text/x-python",
   "name": "python",
   "nbconvert_exporter": "python",
   "pygments_lexer": "ipython3",
   "version": "3.12.4"
  }
 },
 "nbformat": 4,
 "nbformat_minor": 2
}
