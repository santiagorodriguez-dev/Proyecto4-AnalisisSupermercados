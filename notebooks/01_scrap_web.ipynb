{
 "cells": [
  {
   "cell_type": "code",
   "execution_count": 12,
   "metadata": {},
   "outputs": [],
   "source": [
    "from bs4 import BeautifulSoup\n",
    "import requests\n",
    "\n",
    "import sys\n",
    "sys.path.append(\"../\")\n",
    "from src import soporte_scrap_web as spc"
   ]
  },
  {
   "cell_type": "code",
   "execution_count": 2,
   "metadata": {},
   "outputs": [],
   "source": [
    "list_urls_super = spc.get_urls(\"https://super.facua.org/\",\"Acceder\")"
   ]
  },
  {
   "cell_type": "code",
   "execution_count": 3,
   "metadata": {},
   "outputs": [
    {
     "data": {
      "text/plain": [
       "['https://super.facua.org/mercadona/',\n",
       " 'https://super.facua.org/carrefour/',\n",
       " 'https://super.facua.org/eroski/',\n",
       " 'https://super.facua.org/dia/',\n",
       " 'https://super.facua.org/hipercor/',\n",
       " 'https://super.facua.org/alcampo/']"
      ]
     },
     "execution_count": 3,
     "metadata": {},
     "output_type": "execute_result"
    }
   ],
   "source": [
    "list_urls_super"
   ]
  },
  {
   "cell_type": "code",
   "execution_count": 4,
   "metadata": {},
   "outputs": [],
   "source": [
    "list_con_categorias=[]\n",
    "\n",
    "for super in list_urls_super:\n",
    "    list_con_categorias.append(spc.get_urls(super,'Ver'))\n"
   ]
  },
  {
   "cell_type": "code",
   "execution_count": 46,
   "metadata": {},
   "outputs": [
    {
     "data": {
      "text/plain": [
       "7"
      ]
     },
     "execution_count": 46,
     "metadata": {},
     "output_type": "execute_result"
    }
   ],
   "source": [
    "len(list_con_categorias)"
   ]
  },
  {
   "cell_type": "code",
   "execution_count": null,
   "metadata": {},
   "outputs": [],
   "source": [
    "todos_productos = []\n",
    "for k in list_con_categorias:\n",
    "    for h in k:\n",
    "        todos_productos.append(spc.get_urls(h,'Histórico'))\n"
   ]
  },
  {
   "cell_type": "code",
   "execution_count": 49,
   "metadata": {},
   "outputs": [
    {
     "data": {
      "text/plain": [
       "20"
      ]
     },
     "execution_count": 49,
     "metadata": {},
     "output_type": "execute_result"
    }
   ],
   "source": [
    "len(todos_productos)"
   ]
  },
  {
   "cell_type": "code",
   "execution_count": 52,
   "metadata": {},
   "outputs": [
    {
     "data": {
      "text/plain": [
       "'https://super.facua.org/mercadona/aceite-de-oliva/aceite-de-oliva-1-hacendado-botella-1-l/'"
      ]
     },
     "execution_count": 52,
     "metadata": {},
     "output_type": "execute_result"
    }
   ],
   "source": [
    "todos_productos[1][1]"
   ]
  },
  {
   "cell_type": "code",
   "execution_count": 53,
   "metadata": {},
   "outputs": [
    {
     "data": {
      "text/plain": [
       "['mercadona', 'aceite-de-oliva', 'aceite-de-oliva-1-hacendado-botella-1-l']"
      ]
     },
     "execution_count": 53,
     "metadata": {},
     "output_type": "execute_result"
    }
   ],
   "source": [
    "\n",
    "todos_productos[1][1].split(\"/\")[3:6]"
   ]
  },
  {
   "cell_type": "code",
   "execution_count": 10,
   "metadata": {},
   "outputs": [],
   "source": [
    "result = spc.get_urls(list_con_categorias[1][1],'Histórico')"
   ]
  },
  {
   "cell_type": "code",
   "execution_count": 41,
   "metadata": {},
   "outputs": [
    {
     "data": {
      "text/plain": [
       "126"
      ]
     },
     "execution_count": 41,
     "metadata": {},
     "output_type": "execute_result"
    }
   ],
   "source": [
    "result"
   ]
  },
  {
   "cell_type": "code",
   "execution_count": 43,
   "metadata": {},
   "outputs": [
    {
     "name": "stdout",
     "output_type": "stream",
     "text": [
      "La respuesta de la petición es: 200\n"
     ]
    }
   ],
   "source": [
    "# Definimos una variable con la url que de la que vamos a extraer la información\n",
    "url_sopa = result[0]\n",
    "\n",
    "# Definimos una variable con la petición usando la biblioteca requests\n",
    "res = requests.get(url_sopa)\n",
    "\n",
    "# Comprobamos el estado de la petición\n",
    "print(f\"La respuesta de la petición es: {res.status_code}\")\n",
    "\n",
    "sopa = BeautifulSoup(res.content, \"html.parser\")\n",
    "\n",
    "resultado = sopa.find(\"tbody\")\n"
   ]
  },
  {
   "cell_type": "code",
   "execution_count": 44,
   "metadata": {},
   "outputs": [],
   "source": [
    "result_tr = resultado.findAll(\"tr\")"
   ]
  },
  {
   "cell_type": "code",
   "execution_count": 45,
   "metadata": {},
   "outputs": [
    {
     "data": {
      "text/plain": [
       "[['22/06/2024', '10,49', '=', 'categoria', 'nombre'],\n",
       " ['23/06/2024', '10,49', '=', 'categoria', 'nombre'],\n",
       " ['24/06/2024', '9,29', '-1,20 (11,44%)', 'categoria', 'nombre'],\n",
       " ['25/06/2024', '9,29', '=', 'categoria', 'nombre'],\n",
       " ['26/06/2024', '9,29', '=', 'categoria', 'nombre'],\n",
       " ['27/06/2024', '9,29', '=', 'categoria', 'nombre'],\n",
       " ['28/06/2024', '9,29', '=', 'categoria', 'nombre'],\n",
       " ['29/06/2024', '9,29', '=', 'categoria', 'nombre'],\n",
       " ['30/06/2024', '9,29', '=', 'categoria', 'nombre'],\n",
       " ['01/07/2024', '8,85', '-0,44 (4,74%)', 'categoria', 'nombre'],\n",
       " ['02/07/2024', '8,85', '=', 'categoria', 'nombre'],\n",
       " ['03/07/2024', '8,85', '=', 'categoria', 'nombre'],\n",
       " ['04/07/2024', '8,85', '=', 'categoria', 'nombre'],\n",
       " ['05/07/2024', '8,85', '=', 'categoria', 'nombre'],\n",
       " ['07/07/2024', '8,85', '=', 'categoria', 'nombre'],\n",
       " ['08/07/2024', '8,85', '=', 'categoria', 'nombre'],\n",
       " ['09/07/2024', '8,85', '=', 'categoria', 'nombre'],\n",
       " ['10/07/2024', '8,85', '=', 'categoria', 'nombre'],\n",
       " ['11/07/2024', '8,85', '=', 'categoria', 'nombre'],\n",
       " ['12/07/2024', '8,85', '=', 'categoria', 'nombre'],\n",
       " ['13/07/2024', '8,85', '=', 'categoria', 'nombre'],\n",
       " ['14/07/2024', '8,85', '=', 'categoria', 'nombre'],\n",
       " ['15/07/2024', '8,85', '=', 'categoria', 'nombre'],\n",
       " ['16/07/2024', '8,85', '=', 'categoria', 'nombre'],\n",
       " ['17/07/2024', '8,85', '=', 'categoria', 'nombre'],\n",
       " ['18/07/2024', '8,85', '=', 'categoria', 'nombre'],\n",
       " ['19/07/2024', '8,85', '=', 'categoria', 'nombre'],\n",
       " ['20/07/2024', '8,85', '=', 'categoria', 'nombre'],\n",
       " ['21/07/2024', '8,85', '=', 'categoria', 'nombre'],\n",
       " ['22/07/2024', '8,85', '=', 'categoria', 'nombre'],\n",
       " ['23/07/2024', '8,85', '=', 'categoria', 'nombre'],\n",
       " ['24/07/2024', '9,29', '+0,44 (4,97%)', 'categoria', 'nombre'],\n",
       " ['25/07/2024', '9,29', '=', 'categoria', 'nombre'],\n",
       " ['26/07/2024', '9,29', '=', 'categoria', 'nombre'],\n",
       " ['27/07/2024', '9,29', '=', 'categoria', 'nombre'],\n",
       " ['28/07/2024', '9,29', '=', 'categoria', 'nombre'],\n",
       " ['29/07/2024', '9,29', '=', 'categoria', 'nombre'],\n",
       " ['30/07/2024', '9,29', '=', 'categoria', 'nombre'],\n",
       " ['31/07/2024', '9,29', '=', 'categoria', 'nombre'],\n",
       " ['01/08/2024', '9,29', '=', 'categoria', 'nombre'],\n",
       " ['02/08/2024', '9,29', '=', 'categoria', 'nombre'],\n",
       " ['03/08/2024', '9,29', '=', 'categoria', 'nombre'],\n",
       " ['04/08/2024', '9,29', '=', 'categoria', 'nombre'],\n",
       " ['05/08/2024', '9,29', '=', 'categoria', 'nombre'],\n",
       " ['06/08/2024', '9,29', '=', 'categoria', 'nombre'],\n",
       " ['07/08/2024', '9,29', '=', 'categoria', 'nombre'],\n",
       " ['09/08/2024', '9,29', '=', 'categoria', 'nombre'],\n",
       " ['10/08/2024', '9,29', '=', 'categoria', 'nombre'],\n",
       " ['11/08/2024', '9,29', '=', 'categoria', 'nombre'],\n",
       " ['12/08/2024', '9,29', '=', 'categoria', 'nombre'],\n",
       " ['13/08/2024', '9,29', '=', 'categoria', 'nombre'],\n",
       " ['14/08/2024', '9,29', '=', 'categoria', 'nombre'],\n",
       " ['15/08/2024', '9,29', '=', 'categoria', 'nombre'],\n",
       " ['16/08/2024', '9,29', '=', 'categoria', 'nombre'],\n",
       " ['17/08/2024', '9,29', '=', 'categoria', 'nombre'],\n",
       " ['18/08/2024', '9,29', '=', 'categoria', 'nombre'],\n",
       " ['19/08/2024', '9,29', '=', 'categoria', 'nombre'],\n",
       " ['20/08/2024', '9,29', '=', 'categoria', 'nombre'],\n",
       " ['21/08/2024', '9,29', '=', 'categoria', 'nombre'],\n",
       " ['22/08/2024', '9,29', '=', 'categoria', 'nombre'],\n",
       " ['23/08/2024', '9,29', '=', 'categoria', 'nombre'],\n",
       " ['24/08/2024', '9,29', '=', 'categoria', 'nombre'],\n",
       " ['25/08/2024', '9,29', '=', 'categoria', 'nombre'],\n",
       " ['26/08/2024', '9,29', '=', 'categoria', 'nombre'],\n",
       " ['27/08/2024', '9,29', '=', 'categoria', 'nombre'],\n",
       " ['28/08/2024', '9,29', '=', 'categoria', 'nombre'],\n",
       " ['29/08/2024', '9,29', '=', 'categoria', 'nombre'],\n",
       " ['30/08/2024', '9,29', '=', 'categoria', 'nombre'],\n",
       " ['31/08/2024', '9,29', '=', 'categoria', 'nombre'],\n",
       " ['02/09/2024', '9,29', '=', 'categoria', 'nombre'],\n",
       " ['03/09/2024', '9,29', '=', 'categoria', 'nombre'],\n",
       " ['04/09/2024', '9,29', '=', 'categoria', 'nombre'],\n",
       " ['05/09/2024', '9,29', '=', 'categoria', 'nombre'],\n",
       " ['06/09/2024', '9,29', '=', 'categoria', 'nombre'],\n",
       " ['07/09/2024', '9,29', '=', 'categoria', 'nombre'],\n",
       " ['08/09/2024', '9,29', '=', 'categoria', 'nombre'],\n",
       " ['09/09/2024', '9,29', '=', 'categoria', 'nombre'],\n",
       " ['10/09/2024', '9,29', '=', 'categoria', 'nombre'],\n",
       " ['11/09/2024', '9,29', '=', 'categoria', 'nombre'],\n",
       " ['12/09/2024', '9,29', '=', 'categoria', 'nombre'],\n",
       " ['13/09/2024', '9,29', '=', 'categoria', 'nombre'],\n",
       " ['14/09/2024', '9,29', '=', 'categoria', 'nombre'],\n",
       " ['15/09/2024', '9,29', '=', 'categoria', 'nombre'],\n",
       " ['16/09/2024', '9,29', '=', 'categoria', 'nombre'],\n",
       " ['17/09/2024', '9,29', '=', 'categoria', 'nombre'],\n",
       " ['03/10/2024', '6,99', '-2,30 (24,76%)', 'categoria', 'nombre'],\n",
       " ['04/10/2024', '6,99', '=', 'categoria', 'nombre'],\n",
       " ['05/10/2024', '6,99', '=', 'categoria', 'nombre'],\n",
       " ['06/10/2024', '6,99', '=', 'categoria', 'nombre'],\n",
       " ['09/10/2024', '6,99', '=', 'categoria', 'nombre'],\n",
       " ['12/10/2024', '9,48', '+2,49 (35,62%)', 'categoria', 'nombre'],\n",
       " ['13/10/2024', '9,48', '=', 'categoria', 'nombre'],\n",
       " ['14/10/2024', '9,48', '=', 'categoria', 'nombre'],\n",
       " ['15/10/2024', '9,48', '=', 'categoria', 'nombre'],\n",
       " ['16/10/2024', '9,48', '=', 'categoria', 'nombre'],\n",
       " ['17/10/2024', '9,48', '=', 'categoria', 'nombre'],\n",
       " ['18/10/2024', '9,48', '=', 'categoria', 'nombre'],\n",
       " ['23/10/2024', '9,48', '=', 'categoria', 'nombre'],\n",
       " ['24/10/2024', '9,48', '=', 'categoria', 'nombre'],\n",
       " ['25/10/2024', '9,48', '=', 'categoria', 'nombre']]"
      ]
     },
     "execution_count": 45,
     "metadata": {},
     "output_type": "execute_result"
    }
   ],
   "source": [
    "listagg = []\n",
    "for tr in result_tr:\n",
    "    lista = tr.findAll(\"td\")\n",
    "    lista_inter = []\n",
    "    for td in lista:\n",
    "        lista_inter.append(td.text)\n",
    "    lista_inter.append('categoria')\n",
    "    lista_inter.append('nombre')\n",
    "    listagg.append(lista_inter)\n",
    "\n",
    "listagg"
   ]
  },
  {
   "cell_type": "code",
   "execution_count": 30,
   "metadata": {},
   "outputs": [
    {
     "data": {
      "text/plain": [
       "'22/06/2024;10.49;='"
      ]
     },
     "execution_count": 30,
     "metadata": {},
     "output_type": "execute_result"
    }
   ],
   "source": [
    "texto = u[0].getText(strip=True, separator=';')\n",
    "texto = texto.replace(',','.')\n",
    "texto"
   ]
  }
 ],
 "metadata": {
  "kernelspec": {
   "display_name": "entorno_develop",
   "language": "python",
   "name": "python3"
  },
  "language_info": {
   "codemirror_mode": {
    "name": "ipython",
    "version": 3
   },
   "file_extension": ".py",
   "mimetype": "text/x-python",
   "name": "python",
   "nbconvert_exporter": "python",
   "pygments_lexer": "ipython3",
   "version": "3.12.4"
  }
 },
 "nbformat": 4,
 "nbformat_minor": 2
}
