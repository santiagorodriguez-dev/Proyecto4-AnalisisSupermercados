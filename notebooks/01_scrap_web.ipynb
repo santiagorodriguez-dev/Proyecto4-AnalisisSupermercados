{
 "cells": [
  {
   "cell_type": "code",
   "execution_count": 1,
   "metadata": {},
   "outputs": [],
   "source": [
    "import sys\n",
    "sys.path.append(\"../\")\n",
    "from src import soporte_scrap_web as spc"
   ]
  },
  {
   "cell_type": "code",
   "execution_count": 2,
   "metadata": {},
   "outputs": [],
   "source": [
    "list_urls_super = spc.sacar_url_principales_supermercados(\"https://super.facua.org/\")"
   ]
  },
  {
   "cell_type": "code",
   "execution_count": 3,
   "metadata": {},
   "outputs": [
    {
     "data": {
      "text/plain": [
       "['https://super.facua.org/mercadona/',\n",
       " 'https://super.facua.org/carrefour/',\n",
       " 'https://super.facua.org/eroski/',\n",
       " 'https://super.facua.org/dia/',\n",
       " 'https://super.facua.org/hipercor/',\n",
       " 'https://super.facua.org/alcampo/']"
      ]
     },
     "execution_count": 3,
     "metadata": {},
     "output_type": "execute_result"
    }
   ],
   "source": [
    "list_urls_super"
   ]
  }
 ],
 "metadata": {
  "kernelspec": {
   "display_name": "entorno_develop",
   "language": "python",
   "name": "python3"
  },
  "language_info": {
   "codemirror_mode": {
    "name": "ipython",
    "version": 3
   },
   "file_extension": ".py",
   "mimetype": "text/x-python",
   "name": "python",
   "nbconvert_exporter": "python",
   "pygments_lexer": "ipython3",
   "version": "3.12.4"
  }
 },
 "nbformat": 4,
 "nbformat_minor": 2
}
