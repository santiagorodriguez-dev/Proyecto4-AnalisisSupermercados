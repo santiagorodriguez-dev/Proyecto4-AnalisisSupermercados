{
 "cells": [
  {
   "cell_type": "code",
   "execution_count": 1,
   "metadata": {},
   "outputs": [],
   "source": [
    "import sys\n",
    "sys.path.append(\"../\")\n",
    "from src import soporte_scrap_web as spc"
   ]
  },
  {
   "cell_type": "code",
   "execution_count": 2,
   "metadata": {},
   "outputs": [],
   "source": [
    "list_urls_super = spc.get_urls(\"https://super.facua.org/\",\"Acceder\")"
   ]
  },
  {
   "cell_type": "code",
   "execution_count": 3,
   "metadata": {},
   "outputs": [
    {
     "data": {
      "text/plain": [
       "['https://super.facua.org/mercadona/',\n",
       " 'https://super.facua.org/carrefour/',\n",
       " 'https://super.facua.org/eroski/',\n",
       " 'https://super.facua.org/dia/',\n",
       " 'https://super.facua.org/hipercor/',\n",
       " 'https://super.facua.org/alcampo/']"
      ]
     },
     "execution_count": 3,
     "metadata": {},
     "output_type": "execute_result"
    }
   ],
   "source": [
    "list_urls_super"
   ]
  },
  {
   "cell_type": "code",
   "execution_count": 4,
   "metadata": {},
   "outputs": [],
   "source": [
    "list_con_categorias=[]\n",
    "\n",
    "for super in list_urls_super:\n",
    "    list_con_categorias.append(spc.get_urls(super,'Ver'))\n"
   ]
  },
  {
   "cell_type": "code",
   "execution_count": 5,
   "metadata": {},
   "outputs": [
    {
     "data": {
      "text/plain": [
       "[['https://super.facua.org/mercadona/aceite-de-girasol/',\n",
       "  'https://super.facua.org/mercadona/aceite-de-oliva/',\n",
       "  'https://super.facua.org/mercadona/leche/'],\n",
       " ['https://super.facua.org/carrefour/aceite-de-girasol/',\n",
       "  'https://super.facua.org/carrefour/aceite-de-oliva/',\n",
       "  'https://super.facua.org/carrefour/leche/'],\n",
       " ['https://super.facua.org/eroski/aceite-de-girasol/',\n",
       "  'https://super.facua.org/eroski/aceite-de-oliva/',\n",
       "  'https://super.facua.org/eroski/leche/'],\n",
       " ['https://super.facua.org/dia/aceite-de-girasol/',\n",
       "  'https://super.facua.org/dia/aceite-de-oliva/',\n",
       "  'https://super.facua.org/dia/leche/'],\n",
       " ['https://super.facua.org/hipercor/aceite-de-girasol/',\n",
       "  'https://super.facua.org/hipercor/aceite-de-oliva/',\n",
       "  'https://super.facua.org/hipercor/leche/'],\n",
       " ['https://super.facua.org/alcampo/aceite-de-girasol/',\n",
       "  'https://super.facua.org/alcampo/aceite-de-oliva/',\n",
       "  'https://super.facua.org/alcampo/leche/']]"
      ]
     },
     "execution_count": 5,
     "metadata": {},
     "output_type": "execute_result"
    }
   ],
   "source": [
    "list_con_categorias"
   ]
  }
 ],
 "metadata": {
  "kernelspec": {
   "display_name": "entorno_develop",
   "language": "python",
   "name": "python3"
  },
  "language_info": {
   "codemirror_mode": {
    "name": "ipython",
    "version": 3
   },
   "file_extension": ".py",
   "mimetype": "text/x-python",
   "name": "python",
   "nbconvert_exporter": "python",
   "pygments_lexer": "ipython3",
   "version": "3.12.4"
  }
 },
 "nbformat": 4,
 "nbformat_minor": 2
}
