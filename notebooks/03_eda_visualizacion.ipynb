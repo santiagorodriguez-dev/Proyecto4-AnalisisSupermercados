{
 "cells": [
  {
   "cell_type": "markdown",
   "metadata": {},
   "source": [
    "### Cargamos librerias"
   ]
  },
  {
   "cell_type": "code",
   "execution_count": 1,
   "metadata": {},
   "outputs": [
    {
     "data": {
      "text/plain": [
       "True"
      ]
     },
     "execution_count": 1,
     "metadata": {},
     "output_type": "execute_result"
    }
   ],
   "source": [
    "import pandas as pd # type: ignore\n",
    "import os\n",
    "import sys\n",
    "sys.path.append(\"../\")\n",
    "from src import conexion_bd as con\n",
    "from src import consultas_sql as sel\n",
    "from dotenv import load_dotenv # type: ignore\n",
    "\n",
    "load_dotenv()"
   ]
  },
  {
   "cell_type": "code",
   "execution_count": 2,
   "metadata": {},
   "outputs": [],
   "source": [
    "user = os.getenv(\"DB_USER\")\n",
    "password = os.getenv(\"DB_PASSWORD\")\n",
    "host = os.getenv(\"DB_HOST\")\n",
    "port = os.getenv(\"DB_PORT\")\n",
    "database = os.getenv(\"DB_NAME\")"
   ]
  },
  {
   "cell_type": "markdown",
   "metadata": {},
   "source": [
    "### Nos traemos todos los datos"
   ]
  },
  {
   "cell_type": "code",
   "execution_count": 3,
   "metadata": {},
   "outputs": [
    {
     "name": "stdout",
     "output_type": "stream",
     "text": [
      "Conexión a la base de datos establecida con éxito.\n",
      "Conexión a la base de datos cerrada con éxito.\n"
     ]
    }
   ],
   "source": [
    "# Conectar a la base de datos\n",
    "conn, cursor = con.create_connection(user,password,host,port,database)\n",
    "\n",
    "df_result = sel.select_all_data(conn,cursor)\n",
    "\n",
    "# Cerrar la conexión\n",
    "con.close_connection(conn, cursor)"
   ]
  },
  {
   "cell_type": "markdown",
   "metadata": {},
   "source": [
    "### Previo de resultados"
   ]
  },
  {
   "cell_type": "code",
   "execution_count": 4,
   "metadata": {},
   "outputs": [
    {
     "data": {
      "text/html": [
       "<div>\n",
       "<style scoped>\n",
       "    .dataframe tbody tr th:only-of-type {\n",
       "        vertical-align: middle;\n",
       "    }\n",
       "\n",
       "    .dataframe tbody tr th {\n",
       "        vertical-align: top;\n",
       "    }\n",
       "\n",
       "    .dataframe thead th {\n",
       "        text-align: right;\n",
       "    }\n",
       "</style>\n",
       "<table border=\"1\" class=\"dataframe\">\n",
       "  <thead>\n",
       "    <tr style=\"text-align: right;\">\n",
       "      <th></th>\n",
       "      <th>id</th>\n",
       "      <th>fecha</th>\n",
       "      <th>precio</th>\n",
       "      <th>variacion</th>\n",
       "      <th>supermercado</th>\n",
       "      <th>categoria</th>\n",
       "      <th>desc_producto</th>\n",
       "    </tr>\n",
       "  </thead>\n",
       "  <tbody>\n",
       "    <tr>\n",
       "      <th>0</th>\n",
       "      <td>1</td>\n",
       "      <td>2024-07-12</td>\n",
       "      <td>1.45</td>\n",
       "      <td>=</td>\n",
       "      <td>mercadona</td>\n",
       "      <td>aceite de girasol</td>\n",
       "      <td>aceite de girasol refinado 02 hacendado 1 l</td>\n",
       "    </tr>\n",
       "    <tr>\n",
       "      <th>1</th>\n",
       "      <td>2</td>\n",
       "      <td>2024-07-13</td>\n",
       "      <td>1.45</td>\n",
       "      <td>=</td>\n",
       "      <td>mercadona</td>\n",
       "      <td>aceite de girasol</td>\n",
       "      <td>aceite de girasol refinado 02 hacendado 1 l</td>\n",
       "    </tr>\n",
       "    <tr>\n",
       "      <th>2</th>\n",
       "      <td>3</td>\n",
       "      <td>2024-07-14</td>\n",
       "      <td>1.45</td>\n",
       "      <td>=</td>\n",
       "      <td>mercadona</td>\n",
       "      <td>aceite de girasol</td>\n",
       "      <td>aceite de girasol refinado 02 hacendado 1 l</td>\n",
       "    </tr>\n",
       "    <tr>\n",
       "      <th>3</th>\n",
       "      <td>4</td>\n",
       "      <td>2024-07-15</td>\n",
       "      <td>1.45</td>\n",
       "      <td>=</td>\n",
       "      <td>mercadona</td>\n",
       "      <td>aceite de girasol</td>\n",
       "      <td>aceite de girasol refinado 02 hacendado 1 l</td>\n",
       "    </tr>\n",
       "    <tr>\n",
       "      <th>4</th>\n",
       "      <td>5</td>\n",
       "      <td>2024-07-16</td>\n",
       "      <td>1.45</td>\n",
       "      <td>=</td>\n",
       "      <td>mercadona</td>\n",
       "      <td>aceite de girasol</td>\n",
       "      <td>aceite de girasol refinado 02 hacendado 1 l</td>\n",
       "    </tr>\n",
       "  </tbody>\n",
       "</table>\n",
       "</div>"
      ],
      "text/plain": [
       "   id       fecha precio variacion supermercado          categoria  \\\n",
       "0   1  2024-07-12   1.45         =    mercadona  aceite de girasol   \n",
       "1   2  2024-07-13   1.45         =    mercadona  aceite de girasol   \n",
       "2   3  2024-07-14   1.45         =    mercadona  aceite de girasol   \n",
       "3   4  2024-07-15   1.45         =    mercadona  aceite de girasol   \n",
       "4   5  2024-07-16   1.45         =    mercadona  aceite de girasol   \n",
       "\n",
       "                                 desc_producto  \n",
       "0  aceite de girasol refinado 02 hacendado 1 l  \n",
       "1  aceite de girasol refinado 02 hacendado 1 l  \n",
       "2  aceite de girasol refinado 02 hacendado 1 l  \n",
       "3  aceite de girasol refinado 02 hacendado 1 l  \n",
       "4  aceite de girasol refinado 02 hacendado 1 l  "
      ]
     },
     "metadata": {},
     "output_type": "display_data"
    },
    {
     "data": {
      "text/plain": [
       "135867"
      ]
     },
     "metadata": {},
     "output_type": "display_data"
    }
   ],
   "source": [
    "display(df_result.head())\n",
    "display(df_result.shape[0])"
   ]
  },
  {
   "cell_type": "markdown",
   "metadata": {},
   "source": [
    "### Revisamos duplicados y nulos"
   ]
  },
  {
   "cell_type": "code",
   "execution_count": 5,
   "metadata": {},
   "outputs": [
    {
     "name": "stdout",
     "output_type": "stream",
     "text": [
      "cantidad de duplicados:\n"
     ]
    },
    {
     "data": {
      "text/html": [
       "<div>\n",
       "<style scoped>\n",
       "    .dataframe tbody tr th:only-of-type {\n",
       "        vertical-align: middle;\n",
       "    }\n",
       "\n",
       "    .dataframe tbody tr th {\n",
       "        vertical-align: top;\n",
       "    }\n",
       "\n",
       "    .dataframe thead th {\n",
       "        text-align: right;\n",
       "    }\n",
       "</style>\n",
       "<table border=\"1\" class=\"dataframe\">\n",
       "  <thead>\n",
       "    <tr style=\"text-align: right;\">\n",
       "      <th></th>\n",
       "      <th>id</th>\n",
       "      <th>fecha</th>\n",
       "      <th>precio</th>\n",
       "      <th>variacion</th>\n",
       "      <th>supermercado</th>\n",
       "      <th>categoria</th>\n",
       "      <th>desc_producto</th>\n",
       "    </tr>\n",
       "  </thead>\n",
       "  <tbody>\n",
       "  </tbody>\n",
       "</table>\n",
       "</div>"
      ],
      "text/plain": [
       "Empty DataFrame\n",
       "Columns: [id, fecha, precio, variacion, supermercado, categoria, desc_producto]\n",
       "Index: []"
      ]
     },
     "metadata": {},
     "output_type": "display_data"
    },
    {
     "data": {
      "text/plain": [
       "0"
      ]
     },
     "metadata": {},
     "output_type": "display_data"
    },
    {
     "name": "stdout",
     "output_type": "stream",
     "text": [
      "cantidad de nulos:\n"
     ]
    },
    {
     "data": {
      "text/plain": [
       "id               0\n",
       "fecha            0\n",
       "precio           0\n",
       "variacion        0\n",
       "supermercado     0\n",
       "categoria        0\n",
       "desc_producto    0\n",
       "dtype: int64"
      ]
     },
     "metadata": {},
     "output_type": "display_data"
    }
   ],
   "source": [
    "duplicados = df_result[df_result.duplicated()]\n",
    "print(\"cantidad de duplicados:\")\n",
    "display(duplicados.head())\n",
    "display(duplicados.shape[0])\n",
    "\n",
    "nulos_columna = df_result.isnull().sum()\n",
    "print(\"cantidad de nulos:\")\n",
    "display(nulos_columna)"
   ]
  },
  {
   "cell_type": "markdown",
   "metadata": {},
   "source": [
    "### Nos quedamos con las columnas para la visualizacion."
   ]
  },
  {
   "cell_type": "code",
   "execution_count": 6,
   "metadata": {},
   "outputs": [
    {
     "data": {
      "text/html": [
       "<div>\n",
       "<style scoped>\n",
       "    .dataframe tbody tr th:only-of-type {\n",
       "        vertical-align: middle;\n",
       "    }\n",
       "\n",
       "    .dataframe tbody tr th {\n",
       "        vertical-align: top;\n",
       "    }\n",
       "\n",
       "    .dataframe thead th {\n",
       "        text-align: right;\n",
       "    }\n",
       "</style>\n",
       "<table border=\"1\" class=\"dataframe\">\n",
       "  <thead>\n",
       "    <tr style=\"text-align: right;\">\n",
       "      <th></th>\n",
       "      <th>id</th>\n",
       "      <th>fecha</th>\n",
       "      <th>precio</th>\n",
       "      <th>supermercado</th>\n",
       "      <th>categoria</th>\n",
       "      <th>desc_producto</th>\n",
       "    </tr>\n",
       "  </thead>\n",
       "  <tbody>\n",
       "    <tr>\n",
       "      <th>0</th>\n",
       "      <td>1</td>\n",
       "      <td>2024-07-12</td>\n",
       "      <td>1.45</td>\n",
       "      <td>mercadona</td>\n",
       "      <td>aceite de girasol</td>\n",
       "      <td>aceite de girasol refinado 02 hacendado 1 l</td>\n",
       "    </tr>\n",
       "    <tr>\n",
       "      <th>1</th>\n",
       "      <td>2</td>\n",
       "      <td>2024-07-13</td>\n",
       "      <td>1.45</td>\n",
       "      <td>mercadona</td>\n",
       "      <td>aceite de girasol</td>\n",
       "      <td>aceite de girasol refinado 02 hacendado 1 l</td>\n",
       "    </tr>\n",
       "    <tr>\n",
       "      <th>2</th>\n",
       "      <td>3</td>\n",
       "      <td>2024-07-14</td>\n",
       "      <td>1.45</td>\n",
       "      <td>mercadona</td>\n",
       "      <td>aceite de girasol</td>\n",
       "      <td>aceite de girasol refinado 02 hacendado 1 l</td>\n",
       "    </tr>\n",
       "    <tr>\n",
       "      <th>3</th>\n",
       "      <td>4</td>\n",
       "      <td>2024-07-15</td>\n",
       "      <td>1.45</td>\n",
       "      <td>mercadona</td>\n",
       "      <td>aceite de girasol</td>\n",
       "      <td>aceite de girasol refinado 02 hacendado 1 l</td>\n",
       "    </tr>\n",
       "    <tr>\n",
       "      <th>4</th>\n",
       "      <td>5</td>\n",
       "      <td>2024-07-16</td>\n",
       "      <td>1.45</td>\n",
       "      <td>mercadona</td>\n",
       "      <td>aceite de girasol</td>\n",
       "      <td>aceite de girasol refinado 02 hacendado 1 l</td>\n",
       "    </tr>\n",
       "  </tbody>\n",
       "</table>\n",
       "</div>"
      ],
      "text/plain": [
       "   id       fecha precio supermercado          categoria  \\\n",
       "0   1  2024-07-12   1.45    mercadona  aceite de girasol   \n",
       "1   2  2024-07-13   1.45    mercadona  aceite de girasol   \n",
       "2   3  2024-07-14   1.45    mercadona  aceite de girasol   \n",
       "3   4  2024-07-15   1.45    mercadona  aceite de girasol   \n",
       "4   5  2024-07-16   1.45    mercadona  aceite de girasol   \n",
       "\n",
       "                                 desc_producto  \n",
       "0  aceite de girasol refinado 02 hacendado 1 l  \n",
       "1  aceite de girasol refinado 02 hacendado 1 l  \n",
       "2  aceite de girasol refinado 02 hacendado 1 l  \n",
       "3  aceite de girasol refinado 02 hacendado 1 l  \n",
       "4  aceite de girasol refinado 02 hacendado 1 l  "
      ]
     },
     "metadata": {},
     "output_type": "display_data"
    },
    {
     "data": {
      "text/plain": [
       "135867"
      ]
     },
     "metadata": {},
     "output_type": "display_data"
    }
   ],
   "source": [
    "df_result_col = df_result[[\"id\",\"fecha\",\"precio\",\"supermercado\",\"categoria\",\"desc_producto\"]]\n",
    "\n",
    "display(df_result_col.head())\n",
    "display(df_result_col.shape[0])"
   ]
  },
  {
   "cell_type": "markdown",
   "metadata": {},
   "source": [
    "### Comprobamos tipos de datos"
   ]
  },
  {
   "cell_type": "code",
   "execution_count": 7,
   "metadata": {},
   "outputs": [
    {
     "data": {
      "text/plain": [
       "id                int64\n",
       "fecha            object\n",
       "precio           object\n",
       "supermercado     object\n",
       "categoria        object\n",
       "desc_producto    object\n",
       "dtype: object"
      ]
     },
     "execution_count": 7,
     "metadata": {},
     "output_type": "execute_result"
    }
   ],
   "source": [
    "df_result_col.dtypes"
   ]
  },
  {
   "cell_type": "markdown",
   "metadata": {},
   "source": [
    "### Convertimos precio y fecha"
   ]
  },
  {
   "cell_type": "code",
   "execution_count": 8,
   "metadata": {},
   "outputs": [],
   "source": [
    "df_result_col['fecha_format'] = pd.to_datetime(df_result_col['fecha'])\n",
    "df_result_col['precio']= df_result_col['precio'].astype(float)"
   ]
  },
  {
   "cell_type": "code",
   "execution_count": 9,
   "metadata": {},
   "outputs": [
    {
     "data": {
      "text/plain": [
       "id                        int64\n",
       "fecha                    object\n",
       "precio                  float64\n",
       "supermercado             object\n",
       "categoria                object\n",
       "desc_producto            object\n",
       "fecha_format     datetime64[ns]\n",
       "dtype: object"
      ]
     },
     "execution_count": 9,
     "metadata": {},
     "output_type": "execute_result"
    }
   ],
   "source": [
    "df_result_col.dtypes"
   ]
  },
  {
   "cell_type": "markdown",
   "metadata": {},
   "source": [
    "### Dataframe final, para realizar analisis de datos y visualizaciones."
   ]
  },
  {
   "cell_type": "code",
   "execution_count": 10,
   "metadata": {},
   "outputs": [
    {
     "data": {
      "text/html": [
       "<div>\n",
       "<style scoped>\n",
       "    .dataframe tbody tr th:only-of-type {\n",
       "        vertical-align: middle;\n",
       "    }\n",
       "\n",
       "    .dataframe tbody tr th {\n",
       "        vertical-align: top;\n",
       "    }\n",
       "\n",
       "    .dataframe thead th {\n",
       "        text-align: right;\n",
       "    }\n",
       "</style>\n",
       "<table border=\"1\" class=\"dataframe\">\n",
       "  <thead>\n",
       "    <tr style=\"text-align: right;\">\n",
       "      <th></th>\n",
       "      <th>id</th>\n",
       "      <th>fecha_format</th>\n",
       "      <th>precio</th>\n",
       "      <th>supermercado</th>\n",
       "      <th>categoria</th>\n",
       "      <th>desc_producto</th>\n",
       "    </tr>\n",
       "  </thead>\n",
       "  <tbody>\n",
       "    <tr>\n",
       "      <th>0</th>\n",
       "      <td>1</td>\n",
       "      <td>2024-07-12</td>\n",
       "      <td>1.45</td>\n",
       "      <td>mercadona</td>\n",
       "      <td>aceite de girasol</td>\n",
       "      <td>aceite de girasol refinado 02 hacendado 1 l</td>\n",
       "    </tr>\n",
       "    <tr>\n",
       "      <th>1</th>\n",
       "      <td>2</td>\n",
       "      <td>2024-07-13</td>\n",
       "      <td>1.45</td>\n",
       "      <td>mercadona</td>\n",
       "      <td>aceite de girasol</td>\n",
       "      <td>aceite de girasol refinado 02 hacendado 1 l</td>\n",
       "    </tr>\n",
       "    <tr>\n",
       "      <th>2</th>\n",
       "      <td>3</td>\n",
       "      <td>2024-07-14</td>\n",
       "      <td>1.45</td>\n",
       "      <td>mercadona</td>\n",
       "      <td>aceite de girasol</td>\n",
       "      <td>aceite de girasol refinado 02 hacendado 1 l</td>\n",
       "    </tr>\n",
       "    <tr>\n",
       "      <th>3</th>\n",
       "      <td>4</td>\n",
       "      <td>2024-07-15</td>\n",
       "      <td>1.45</td>\n",
       "      <td>mercadona</td>\n",
       "      <td>aceite de girasol</td>\n",
       "      <td>aceite de girasol refinado 02 hacendado 1 l</td>\n",
       "    </tr>\n",
       "    <tr>\n",
       "      <th>4</th>\n",
       "      <td>5</td>\n",
       "      <td>2024-07-16</td>\n",
       "      <td>1.45</td>\n",
       "      <td>mercadona</td>\n",
       "      <td>aceite de girasol</td>\n",
       "      <td>aceite de girasol refinado 02 hacendado 1 l</td>\n",
       "    </tr>\n",
       "  </tbody>\n",
       "</table>\n",
       "</div>"
      ],
      "text/plain": [
       "   id fecha_format  precio supermercado          categoria  \\\n",
       "0   1   2024-07-12    1.45    mercadona  aceite de girasol   \n",
       "1   2   2024-07-13    1.45    mercadona  aceite de girasol   \n",
       "2   3   2024-07-14    1.45    mercadona  aceite de girasol   \n",
       "3   4   2024-07-15    1.45    mercadona  aceite de girasol   \n",
       "4   5   2024-07-16    1.45    mercadona  aceite de girasol   \n",
       "\n",
       "                                 desc_producto  \n",
       "0  aceite de girasol refinado 02 hacendado 1 l  \n",
       "1  aceite de girasol refinado 02 hacendado 1 l  \n",
       "2  aceite de girasol refinado 02 hacendado 1 l  \n",
       "3  aceite de girasol refinado 02 hacendado 1 l  \n",
       "4  aceite de girasol refinado 02 hacendado 1 l  "
      ]
     },
     "metadata": {},
     "output_type": "display_data"
    },
    {
     "data": {
      "text/plain": [
       "135867"
      ]
     },
     "metadata": {},
     "output_type": "display_data"
    }
   ],
   "source": [
    "df_result_final = df_result_col[[\"id\",\"fecha_format\",\"precio\",\"supermercado\",\"categoria\",\"desc_producto\"]]\n",
    "\n",
    "display(df_result_final.head())\n",
    "display(df_result_final.shape[0])"
   ]
  }
 ],
 "metadata": {
  "kernelspec": {
   "display_name": "entorno_develop",
   "language": "python",
   "name": "python3"
  },
  "language_info": {
   "codemirror_mode": {
    "name": "ipython",
    "version": 3
   },
   "file_extension": ".py",
   "mimetype": "text/x-python",
   "name": "python",
   "nbconvert_exporter": "python",
   "pygments_lexer": "ipython3",
   "version": "3.12.4"
  }
 },
 "nbformat": 4,
 "nbformat_minor": 2
}
